{
  "nbformat": 4,
  "nbformat_minor": 0,
  "metadata": {
    "colab": {
      "provenance": [],
      "authorship_tag": "ABX9TyPdcYMzBVH0TDlgw1B3aXPK",
      "include_colab_link": true
    },
    "kernelspec": {
      "name": "python3",
      "display_name": "Python 3"
    },
    "language_info": {
      "name": "python"
    }
  },
  "cells": [
    {
      "cell_type": "markdown",
      "metadata": {
        "id": "view-in-github",
        "colab_type": "text"
      },
      "source": [
        "<a href=\"https://colab.research.google.com/github/dgiri4132/pairs_trading_strategy-zscore/blob/main/Pairs_trading_Stratedy_using_zscore.ipynb\" target=\"_parent\"><img src=\"https://colab.research.google.com/assets/colab-badge.svg\" alt=\"Open In Colab\"/></a>"
      ]
    },
    {
      "cell_type": "code",
      "execution_count": 6,
      "metadata": {
        "id": "2K8vMx8TnpyI",
        "colab": {
          "base_uri": "https://localhost:8080/"
        },
        "outputId": "2e3644ec-18db-40e0-d251-c776d0636440"
      },
      "outputs": [
        {
          "name": "stdout",
          "output_type": "stream",
          "text": [
            "Choose anyone of the index from indexes below:dict_keys(['S&P500', 'NASDAQ-100', 'Dow Jones', 'FTSE 100', 'Nikkei 225', 'DAX', 'CAC 40']) S&P500\n",
            "Enter start date(yyyy-mm-dd): 2023-01-01\n",
            "Enter end date(yyyy-mm-dd): 2025-01-01\n"
          ]
        },
        {
          "output_type": "stream",
          "name": "stderr",
          "text": [
            "[**********************86%****************       ]  434 of 503 completedERROR:yfinance:Failed to get ticker 'MCD' reason: Failed to perform, curl: (28) Operation timed out after 10000 milliseconds with 0 bytes received. See https://curl.se/libcurl/c/libcurl-errors.html first for more details.\n",
            "ERROR:yfinance:Failed to get ticker 'LW' reason: Failed to perform, curl: (28) Operation timed out after 10001 milliseconds with 0 bytes received. See https://curl.se/libcurl/c/libcurl-errors.html first for more details.\n",
            "[*********************100%***********************]  503 of 503 completed\n",
            "ERROR:yfinance:\n",
            "1 Failed download:\n",
            "ERROR:yfinance:['LW']: HTTPError('HTTP Error 401: ')\n"
          ]
        },
        {
          "output_type": "stream",
          "name": "stdout",
          "text": [
            "503 tickers with valid data out of 503\n",
            "No strong correlations found. Try a different index or time range\n"
          ]
        }
      ],
      "source": [
        "import yfinance as yf\n",
        "import pandas as pd\n",
        "def get_company_name(ticker):\n",
        "  try:\n",
        "    return yf.Ticker(ticker).info.get('shortName')\n",
        "  except:\n",
        "    return None\n",
        "option_for_index={'S&P500':'^GSPC','NASDAQ-100':'^NDX','Dow Jones':'^DJI','FTSE 100':'FTSE','Nikkei 225':'^N225','DAX':'^GDAXI','CAC 40':'^FCHI'}\n",
        "chosen_index=input(f'Choose anyone of the index from indexes below:{option_for_index.keys()} ').strip()\n",
        "def index_tickers(chosen_index):\n",
        "  try:\n",
        "    if chosen_index==\"S&P500\":\n",
        "      df = pd.read_html('https://en.wikipedia.org/wiki/List_of_S%26P_500_companies')[0]\n",
        "      return df['Symbol'].tolist()\n",
        "    elif chosen_index=='NASDAQ-100':\n",
        "      df=pd.read_html('https://en.wikipedia.org/wiki/NASDAQ-100')[3]\n",
        "      return df['Ticker'].tolist()\n",
        "    elif chosen_index=='Dow Jones':\n",
        "      df=pd.read_html('https://en.wikipedia.org/wiki/Dow_Jones_Industrial_Average')[1]\n",
        "      return df['Symbol'].tolist()\n",
        "    elif chosen_index=='FTSE 100':\n",
        "      df=pd.read_html('https://en.wikipedia.org/wiki/FTSE_100_Index')[3]\n",
        "      return df['EPIC'].tolist()\n",
        "    elif chosen_index=='Nikkei 225':\n",
        "      df=pd.read_html('https://en.wikipedia.org/wiki/Nikkei_225')[1]\n",
        "      return df['Ticker'].tolist()\n",
        "    elif chosen_index=='DAX':\n",
        "      df=pd.read_html('https://en.wikipedia.org/wiki/DAX')[1]\n",
        "      return df['Ticker Symbol'].tolist()\n",
        "    elif chosen_index=='CAC 40':\n",
        "      df=pd.read_html('https://en.wikipedia.org/wiki/CAC_40')[0]\n",
        "      return df['Ticker'].tolist()\n",
        "    else:\n",
        "      print('Index not recognized or supported')\n",
        "      return None\n",
        "  except Exception as e:\n",
        "    print(f'Error loading tickers for {chosen_index}:{e}')\n",
        "    return None\n",
        "tickers=index_tickers(chosen_index)\n",
        "tickers=[t.replace('.','-')for t in tickers]\n",
        "start_date=input('Enter start date(yyyy-mm-dd): ').strip()\n",
        "end_date=input('Enter end date(yyyy-mm-dd): ').strip()\n",
        "def data_download(tickers,start_date,end_date):\n",
        "  data=yf.download(tickers,start=start_date,end=end_date,auto_adjust=False)['Adj Close']\n",
        "  if isinstance(data.columns,pd.MultiIndex):\n",
        "    data=data['Adj Close'].dropna(axis=1, how='all')\n",
        "  else:\n",
        "    data=data.dropna()\n",
        "  return data.dropna(axis=1, how='any')\n",
        "data=data_download(tickers,start_date,end_date)\n",
        "print(f\"{len(data.columns)} tickers with valid data out of {len(tickers)}\")\n",
        "if data.shape[1]<3:\n",
        "  print('Not enough Valid stocks to compute pairwise correlations.')\n",
        "  exit()\n",
        "returns=data.pct_change().dropna()\n",
        "correlation_matrix=returns.corr()\n",
        "unstacked_corr=correlation_matrix.unstack()\n",
        "filtered_pairs=unstacked_corr[unstacked_corr<1]\n",
        "company_names={ticker: get_company_name(ticker) for ticker in data.columns}\n",
        "filtered_pairs=filtered_pairs[filtered_pairs.index.map(lambda x: company_names.get(x[0]) != company_names.get(x[1]))]\n",
        "unique_pairs=filtered_pairs.drop_duplicates()\n",
        "top_pairs=unique_pairs.sort_values(ascending=False).head(5)\n",
        "if len(top_pairs)==0:\n",
        "  print('No strong correlations found. Try a different index or time range')\n",
        "elif len(top_pairs)==1:\n",
        "  print('Only one pair found. Procceding with the limited data. ')\n",
        "else:\n",
        "  print(f'found {len(top_pairs)} top correlated pairs: ')\n",
        "  print(top_pairs)\n",
        "\n"
      ]
    },
    {
      "cell_type": "code",
      "source": [
        "!git init\n",
        "!git config --global user.email \"darshangiri785@gmail.com\"\n",
        "!git config --global user.name \"dgiri4132\"\n"
      ],
      "metadata": {
        "colab": {
          "base_uri": "https://localhost:8080/"
        },
        "id": "3I90GCuAB9LJ",
        "outputId": "97e90ab4-2994-43d8-c091-ab264048d832"
      },
      "execution_count": null,
      "outputs": [
        {
          "output_type": "stream",
          "name": "stdout",
          "text": [
            "Reinitialized existing Git repository in /content/.git/\n"
          ]
        }
      ]
    },
    {
      "cell_type": "code",
      "source": [
        "!git remote add origin https://github.com/dgiri4132/pairs_trading_strategy-zscore.git\n",
        "!git branch -M main\n",
        "!git add .\n",
        "!git commit -m \"Initial commit for pairs trading strategy using z-score\"\n",
        "!git push -u origin main\n"
      ],
      "metadata": {
        "id": "29BXkVZuE3H9",
        "outputId": "f7bd99e7-0703-4340-fc4a-684ee101873a",
        "colab": {
          "base_uri": "https://localhost:8080/"
        }
      },
      "execution_count": null,
      "outputs": [
        {
          "output_type": "stream",
          "name": "stdout",
          "text": [
            "[main (root-commit) 9aa3adc] Initial commit for pairs trading strategy using z-score\n",
            " 21 files changed, 51025 insertions(+)\n",
            " create mode 100644 .config/.last_opt_in_prompt.yaml\n",
            " create mode 100644 .config/.last_survey_prompt.yaml\n",
            " create mode 100644 .config/.last_update_check.json\n",
            " create mode 100644 .config/active_config\n",
            " create mode 100644 .config/config_sentinel\n",
            " create mode 100644 .config/configurations/config_default\n",
            " create mode 100644 .config/default_configs.db\n",
            " create mode 100644 .config/gce\n",
            " create mode 100644 .config/hidden_gcloud_config_universe_descriptor_data_cache_configs.db\n",
            " create mode 100644 .config/logs/2025.06.11/13.36.48.453813.log\n",
            " create mode 100644 .config/logs/2025.06.11/13.37.08.919149.log\n",
            " create mode 100644 .config/logs/2025.06.11/13.37.17.609931.log\n",
            " create mode 100644 .config/logs/2025.06.11/13.37.18.763091.log\n",
            " create mode 100644 .config/logs/2025.06.11/13.37.27.125319.log\n",
            " create mode 100644 .config/logs/2025.06.11/13.37.27.755669.log\n",
            " create mode 100755 sample_data/README.md\n",
            " create mode 100755 sample_data/anscombe.json\n",
            " create mode 100644 sample_data/california_housing_test.csv\n",
            " create mode 100644 sample_data/california_housing_train.csv\n",
            " create mode 100644 sample_data/mnist_test.csv\n",
            " create mode 100644 sample_data/mnist_train_small.csv\n",
            "fatal: could not read Username for 'https://github.com': No such device or address\n"
          ]
        }
      ]
    }
  ]
}