{
  "nbformat": 4,
  "nbformat_minor": 0,
  "metadata": {
    "colab": {
      "provenance": [],
      "authorship_tag": "ABX9TyMuODpram5BxQ7ADMOwdBmB",
      "include_colab_link": true
    },
    "kernelspec": {
      "name": "python3",
      "display_name": "Python 3"
    },
    "language_info": {
      "name": "python"
    }
  },
  "cells": [
    {
      "cell_type": "markdown",
      "metadata": {
        "id": "view-in-github",
        "colab_type": "text"
      },
      "source": [
        "<a href=\"https://colab.research.google.com/github/dgiri4132/pairs_trading_strategy-zscore/blob/main/Pairs_trading_Stratedy_using_zscore.ipynb\" target=\"_parent\"><img src=\"https://colab.research.google.com/assets/colab-badge.svg\" alt=\"Open In Colab\"/></a>"
      ]
    },
    {
      "cell_type": "code",
      "execution_count": null,
      "metadata": {
        "id": "2K8vMx8TnpyI"
      },
      "outputs": [],
      "source": [
        "import yfinance as yf\n",
        "import pandas as pd\n",
        "\n",
        "option_for_index={'S&P500':'^GSPC','NASDAQ-100':'^NDX','Dow Jones':'^DJI'}\n",
        "chosen_index=str(input('Choose anyone of the index from S&P500, NASDAQ-100 and Dow Jones: '))\n"
      ]
    },
    {
      "cell_type": "code",
      "source": [
        "!git init\n",
        "!git config --global user.email \"darshangiri785@gmail.com\"\n",
        "!git config --global user.name \"dgiri4132\"\n"
      ],
      "metadata": {
        "colab": {
          "base_uri": "https://localhost:8080/"
        },
        "id": "3I90GCuAB9LJ",
        "outputId": "97e90ab4-2994-43d8-c091-ab264048d832"
      },
      "execution_count": null,
      "outputs": [
        {
          "output_type": "stream",
          "name": "stdout",
          "text": [
            "Reinitialized existing Git repository in /content/.git/\n"
          ]
        }
      ]
    },
    {
      "cell_type": "code",
      "source": [
        "!git remote add origin https://github.com/dgiri4132/pairs_trading_strategy-zscore.git\n",
        "!git branch -M main\n",
        "!git add .\n",
        "!git commit -m \"Initial commit for pairs trading strategy using z-score\"\n",
        "!git push -u origin main\n"
      ],
      "metadata": {
        "id": "29BXkVZuE3H9",
        "outputId": "f7bd99e7-0703-4340-fc4a-684ee101873a",
        "colab": {
          "base_uri": "https://localhost:8080/"
        }
      },
      "execution_count": null,
      "outputs": [
        {
          "output_type": "stream",
          "name": "stdout",
          "text": [
            "[main (root-commit) 9aa3adc] Initial commit for pairs trading strategy using z-score\n",
            " 21 files changed, 51025 insertions(+)\n",
            " create mode 100644 .config/.last_opt_in_prompt.yaml\n",
            " create mode 100644 .config/.last_survey_prompt.yaml\n",
            " create mode 100644 .config/.last_update_check.json\n",
            " create mode 100644 .config/active_config\n",
            " create mode 100644 .config/config_sentinel\n",
            " create mode 100644 .config/configurations/config_default\n",
            " create mode 100644 .config/default_configs.db\n",
            " create mode 100644 .config/gce\n",
            " create mode 100644 .config/hidden_gcloud_config_universe_descriptor_data_cache_configs.db\n",
            " create mode 100644 .config/logs/2025.06.11/13.36.48.453813.log\n",
            " create mode 100644 .config/logs/2025.06.11/13.37.08.919149.log\n",
            " create mode 100644 .config/logs/2025.06.11/13.37.17.609931.log\n",
            " create mode 100644 .config/logs/2025.06.11/13.37.18.763091.log\n",
            " create mode 100644 .config/logs/2025.06.11/13.37.27.125319.log\n",
            " create mode 100644 .config/logs/2025.06.11/13.37.27.755669.log\n",
            " create mode 100755 sample_data/README.md\n",
            " create mode 100755 sample_data/anscombe.json\n",
            " create mode 100644 sample_data/california_housing_test.csv\n",
            " create mode 100644 sample_data/california_housing_train.csv\n",
            " create mode 100644 sample_data/mnist_test.csv\n",
            " create mode 100644 sample_data/mnist_train_small.csv\n",
            "fatal: could not read Username for 'https://github.com': No such device or address\n"
          ]
        }
      ]
    },
    {
      "cell_type": "markdown",
      "metadata": {
        "id": "fa9671af"
      },
      "source": [
        "To push to GitHub, you need to provide your credentials. I'll add your username to the remote URL. You'll be prompted for your password when you push.\n",
        "\n",
        "**Please replace `YOUR_GITHUB_USERNAME` with your actual GitHub username.**"
      ]
    },
    {
      "cell_type": "markdown",
      "metadata": {
        "id": "039aa1b8"
      },
      "source": [
        "Now you can try pushing again. You will be prompted to enter your GitHub password."
      ]
    },
    {
      "cell_type": "markdown",
      "metadata": {
        "id": "00b55302"
      },
      "source": [
        "First, add all the files in the current directory to the staging area:"
      ]
    },
    {
      "cell_type": "markdown",
      "metadata": {
        "id": "56d75108"
      },
      "source": [
        "Then, make your first commit with a message:"
      ]
    },
    {
      "cell_type": "markdown",
      "metadata": {
        "id": "8b816ca2"
      },
      "source": [
        "Now you can try pushing again:"
      ]
    },
    {
      "cell_type": "markdown",
      "metadata": {
        "id": "49c310f5"
      },
      "source": [
        "Now, let's try committing again:"
      ]
    },
    {
      "cell_type": "markdown",
      "metadata": {
        "id": "1229b5cf"
      },
      "source": [
        "Finally, you can push your changes to GitHub:"
      ]
    }
  ]
}