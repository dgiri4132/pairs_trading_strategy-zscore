{
  "nbformat": 4,
  "nbformat_minor": 0,
  "metadata": {
    "colab": {
      "provenance": [],
      "authorship_tag": "ABX9TyM5+mimgw6l6Wue/1TYlcK+",
      "include_colab_link": true
    },
    "kernelspec": {
      "name": "python3",
      "display_name": "Python 3"
    },
    "language_info": {
      "name": "python"
    }
  },
  "cells": [
    {
      "cell_type": "markdown",
      "metadata": {
        "id": "view-in-github",
        "colab_type": "text"
      },
      "source": [
        "<a href=\"https://colab.research.google.com/github/dgiri4132/pairs_trading_strategy-zscore/blob/main/Pairs_trading_Stratedy_using_zscore.ipynb\" target=\"_parent\"><img src=\"https://colab.research.google.com/assets/colab-badge.svg\" alt=\"Open In Colab\"/></a>"
      ]
    },
    {
      "cell_type": "code",
      "execution_count": null,
      "metadata": {
        "id": "2K8vMx8TnpyI",
        "colab": {
          "base_uri": "https://localhost:8080/"
        },
        "outputId": "d8ca987f-e429-44f6-bc6b-be116fc79ceb"
      },
      "outputs": [
        {
          "name": "stdout",
          "output_type": "stream",
          "text": [
            "Choose anyone of the index from indexes below:dict_keys(['S&P500', 'NASDAQ-100', 'Dow Jones', 'FTSE 100', 'Nikkei 225', 'DAX', 'CAC 40']) Dow Jones\n",
            "Enter start date(yyyy-mm-dd): 2023-01-05\n",
            "Enter end date(yyyy-mm-dd): 2023-05-01\n"
          ]
        },
        {
          "output_type": "stream",
          "name": "stderr",
          "text": [
            "[*********************100%***********************]  30 of 30 completed\n"
          ]
        },
        {
          "output_type": "stream",
          "name": "stdout",
          "text": [
            "30 tickers with valid data out of 30\n"
          ]
        },
        {
          "output_type": "stream",
          "name": "stderr",
          "text": [
            "ERROR:yfinance:HTTP Error 401: \n",
            "ERROR:yfinance:HTTP Error 401: \n",
            "ERROR:yfinance:HTTP Error 401: \n",
            "ERROR:yfinance:HTTP Error 401: \n",
            "ERROR:yfinance:HTTP Error 401: \n",
            "ERROR:yfinance:HTTP Error 401: \n",
            "ERROR:yfinance:HTTP Error 401: \n",
            "ERROR:yfinance:HTTP Error 401: \n",
            "ERROR:yfinance:HTTP Error 401: \n",
            "ERROR:yfinance:HTTP Error 401: \n",
            "ERROR:yfinance:HTTP Error 401: \n",
            "ERROR:yfinance:HTTP Error 401: \n",
            "ERROR:yfinance:HTTP Error 401: \n"
          ]
        },
        {
          "output_type": "stream",
          "name": "stdout",
          "text": [
            "Enter the number of top correlated pairs to analyze: 5\n",
            "found 5 top correlated pairs: \n",
            "Ticker  Ticker\n",
            "AXP     V         0.727235\n",
            "AMZN    MSFT      0.684266\n",
            "KO      MCD       0.675872\n",
            "        PG        0.636521\n",
            "HON     MMM       0.622291\n",
            "dtype: float64\n"
          ]
        }
      ],
      "source": [
        "import yfinance as yf\n",
        "import pandas as pd\n",
        "def get_company_name(ticker):\n",
        "  try:\n",
        "    return yf.Ticker(ticker).info.get('shortName')\n",
        "  except:\n",
        "    return None\n",
        "option_for_index={'S&P500':'^GSPC','NASDAQ-100':'^NDX','Dow Jones':'^DJI','FTSE 100':'FTSE','Nikkei 225':'^N225','DAX':'^GDAXI','CAC 40':'^FCHI'}\n",
        "while True:\n",
        "  chosen_index=input(f'Choose anyone of the index from indexes below:{','.join(option_for_index.keys())} ').strip()\n",
        "  if chosen_index in option_for_index:\n",
        "    break\n",
        "  else:\n",
        "    print('Invalid index. Please try again.')\n",
        "def index_tickers(chosen_index):\n",
        "  try:\n",
        "    if chosen_index==\"S&P500\":\n",
        "      df = pd.read_html('https://en.wikipedia.org/wiki/List_of_S%26P_500_companies')[0]\n",
        "      return df['Symbol'].tolist()\n",
        "    elif chosen_index=='NASDAQ-100':\n",
        "      df=pd.read_html('https://en.wikipedia.org/wiki/NASDAQ-100')[4]\n",
        "      return df['Ticker'].tolist()\n",
        "    elif chosen_index=='Dow Jones':\n",
        "      df=pd.read_html('https://en.wikipedia.org/wiki/Dow_Jones_Industrial_Average')[2]\n",
        "      return df['Symbol'].tolist()\n",
        "    elif chosen_index=='FTSE 100':\n",
        "      df=pd.read_html('https://en.wikipedia.org/wiki/FTSE_100_Index')[4]\n",
        "      return df['EPIC'].tolist()\n",
        "    elif chosen_index=='Nikkei 225':\n",
        "      df=pd.read_html('https://en.wikipedia.org/wiki/Nikkei_225')[2]\n",
        "      return df['Ticker'].tolist()\n",
        "    elif chosen_index=='DAX':\n",
        "      df=pd.read_html('https://en.wikipedia.org/wiki/DAX')[2]\n",
        "      return df['Ticker Symbol'].tolist()\n",
        "    elif chosen_index=='CAC 40':\n",
        "      df=pd.read_html('https://en.wikipedia.org/wiki/CAC_40')[1]\n",
        "      return df['Ticker'].tolist()\n",
        "    else:\n",
        "      print('Index not recognized or supported')\n",
        "      return None\n",
        "  except Exception as e:\n",
        "    print(f'Error loading tickers for {chosen_index}:{e}')\n",
        "    return None\n",
        "tickers=index_tickers(chosen_index)\n",
        "tickers=[t.replace('.','-')for t in tickers]\n",
        "start_date=input('Enter start date(yyyy-mm-dd): ').strip()\n",
        "end_date=input('Enter end date(yyyy-mm-dd): ').strip()\n",
        "def data_download(tickers,start_date,end_date):\n",
        "  data=yf.download(tickers,start=start_date,end=end_date,auto_adjust=False)['Adj Close']\n",
        "  if isinstance(data.columns,pd.MultiIndex):\n",
        "    data=data['Adj Close'].dropna(axis=1, how='all')\n",
        "  else:\n",
        "    data=data.dropna()\n",
        "  return data.dropna(axis=1, how='any')\n",
        "data=data_download(tickers,start_date,end_date)\n",
        "print(f\"{len(data.columns)} tickers with valid data out of {len(tickers)}\")\n",
        "if data.shape[1]<3:\n",
        "  print('Not enough Valid stocks to compute pairwise correlations.')\n",
        "  exit()\n",
        "returns=data.pct_change().dropna()\n",
        "correlation_matrix=returns.corr()\n",
        "unstacked_corr=correlation_matrix.unstack()\n",
        "filtered_pairs=unstacked_corr[unstacked_corr<1]\n",
        "company_names={ticker: get_company_name(ticker) for ticker in data.columns}\n",
        "filtered_pairs=filtered_pairs[filtered_pairs.index.map(lambda x: company_names.get(x[0]) != company_names.get(x[1]))]\n",
        "unique_pairs=filtered_pairs.drop_duplicates()\n",
        "num_pairs=int(input('Enter the number of top correlated pairs to analyze: ').strip())\n",
        "top_pairs=unique_pairs.sort_values(ascending=False).head(num_pairs)\n",
        "if len(top_pairs)==0:\n",
        "  print('No strong correlations found. Try a different index or time range')\n",
        "elif len(top_pairs)==1:\n",
        "  print('Only one pair found. Procceding with the limited data. ')\n",
        "else:\n",
        "  print(f'found {len(top_pairs)} top correlated pairs: ')\n",
        "  print(top_pairs)\n",
        "\n"
      ]
    },
    {
      "cell_type": "code",
      "source": [
        "def calculate_zscore(spread,window=30):\n",
        "  rolling_mean=spread.rolling(window=window).mean()\n",
        "  rolling_std=spread.rolling(window=window).std()\n",
        "  zscore=(spread-rolling_mean)/rolling_std\n",
        "  return zscore\n",
        "def signals(zscore, threshold=1):\n",
        "  signal=pd.Series(index=zscore.index,dtype='float64')\n",
        "  signal[zscore>threshold]=-1\n",
        "  signal[zscore<-threshold]=1\n",
        "  signal[(zscore<=threshold)&(zscore>=-threshold)]=0\n",
        "  return signal.ffill().fillna(0)\n",
        "for i in top_pairs.index:\n",
        "  stock_1,stock_2=i\n",
        "  stock_1_norm=data[stock_1]/data[stock_1].iloc[0]\n",
        "  stock_2_norm=data[stock_2]/data[stock_2].iloc[0]\n",
        "  spread=stock_1_norm-stock_2_norm\n",
        "  zscore=calculate_zscore(spread,window=30)\n",
        "  threshold=float(input(f'Enter the z-score threshold(the default is (+/-)1): ').strip())\n",
        "  signals_df=signals(zscore, threshold)\n",
        "  print(f'Final few signals to buy or sell for {stock_1} and {stock_2}:')\n",
        "  print(signals_df.tail(5))\n",
        "  #Backtesting according to the signal\n",
        "  spread_returns=returns[stock_1]-returns[stock_2]\n",
        "  strategy_returns=signals_df.shift(1)*spread_returns\n",
        "  cumilative_returns=(1+strategy_returns).cumprod()\n",
        "  print(f'Final return from strategy on {stock_1}-{stock_2}:{cumilative_returns.iloc[-1]:.2f}')"
      ],
      "metadata": {
        "colab": {
          "base_uri": "https://localhost:8080/"
        },
        "id": "Tl3S_NeW7K-g",
        "outputId": "5672ca05-5ec3-4138-aae0-95968f4c7dbf"
      },
      "execution_count": null,
      "outputs": [
        {
          "output_type": "stream",
          "name": "stdout",
          "text": [
            "Enter the z-score threshold(the default is (+/-)1): 1.5\n",
            "Final few signals to buy or sell for AXP and V:\n",
            "Date\n",
            "2023-04-24    1.0\n",
            "2023-04-25    1.0\n",
            "2023-04-26    1.0\n",
            "2023-04-27    0.0\n",
            "2023-04-28    0.0\n",
            "dtype: float64\n",
            "Final return from strategy on AXP-V:1.03\n",
            "Enter the z-score threshold(the default is (+/-)1): 1.5\n",
            "Final few signals to buy or sell for AMZN and MSFT:\n",
            "Date\n",
            "2023-04-24   -1.0\n",
            "2023-04-25   -1.0\n",
            "2023-04-26    0.0\n",
            "2023-04-27    0.0\n",
            "2023-04-28    1.0\n",
            "dtype: float64\n",
            "Final return from strategy on AMZN-MSFT:1.14\n",
            "Enter the z-score threshold(the default is (+/-)1): 1.5\n",
            "Final few signals to buy or sell for KO and MCD:\n",
            "Date\n",
            "2023-04-24    1.0\n",
            "2023-04-25    0.0\n",
            "2023-04-26    0.0\n",
            "2023-04-27    1.0\n",
            "2023-04-28    1.0\n",
            "dtype: float64\n",
            "Final return from strategy on KO-MCD:1.02\n",
            "Enter the z-score threshold(the default is (+/-)1): 1.5\n",
            "Final few signals to buy or sell for KO and PG:\n",
            "Date\n",
            "2023-04-24    1.0\n",
            "2023-04-25    1.0\n",
            "2023-04-26    1.0\n",
            "2023-04-27    1.0\n",
            "2023-04-28    1.0\n",
            "dtype: float64\n",
            "Final return from strategy on KO-PG:1.03\n",
            "Enter the z-score threshold(the default is (+/-)1): 1.5\n",
            "Final few signals to buy or sell for HON and MMM:\n",
            "Date\n",
            "2023-04-24    0.0\n",
            "2023-04-25    0.0\n",
            "2023-04-26    0.0\n",
            "2023-04-27   -1.0\n",
            "2023-04-28   -1.0\n",
            "dtype: float64\n",
            "Final return from strategy on HON-MMM:1.02\n"
          ]
        }
      ]
    },
    {
      "cell_type": "code",
      "source": [
        "!git init\n",
        "!git config --global user.email \"darshangiri785@gmail.com\"\n",
        "!git config --global user.name \"dgiri4132\"\n"
      ],
      "metadata": {
        "colab": {
          "base_uri": "https://localhost:8080/"
        },
        "id": "3I90GCuAB9LJ",
        "outputId": "97e90ab4-2994-43d8-c091-ab264048d832"
      },
      "execution_count": null,
      "outputs": [
        {
          "output_type": "stream",
          "name": "stdout",
          "text": [
            "Reinitialized existing Git repository in /content/.git/\n"
          ]
        }
      ]
    },
    {
      "cell_type": "code",
      "source": [
        "!git remote add origin https://github.com/dgiri4132/pairs_trading_strategy-zscore.git\n",
        "!git branch -M main\n",
        "!git add .\n",
        "!git commit -m \"Initial commit for pairs trading strategy using z-score\"\n",
        "!git push -u origin main\n"
      ],
      "metadata": {
        "id": "29BXkVZuE3H9",
        "outputId": "f7bd99e7-0703-4340-fc4a-684ee101873a",
        "colab": {
          "base_uri": "https://localhost:8080/"
        }
      },
      "execution_count": null,
      "outputs": [
        {
          "output_type": "stream",
          "name": "stdout",
          "text": [
            "[main (root-commit) 9aa3adc] Initial commit for pairs trading strategy using z-score\n",
            " 21 files changed, 51025 insertions(+)\n",
            " create mode 100644 .config/.last_opt_in_prompt.yaml\n",
            " create mode 100644 .config/.last_survey_prompt.yaml\n",
            " create mode 100644 .config/.last_update_check.json\n",
            " create mode 100644 .config/active_config\n",
            " create mode 100644 .config/config_sentinel\n",
            " create mode 100644 .config/configurations/config_default\n",
            " create mode 100644 .config/default_configs.db\n",
            " create mode 100644 .config/gce\n",
            " create mode 100644 .config/hidden_gcloud_config_universe_descriptor_data_cache_configs.db\n",
            " create mode 100644 .config/logs/2025.06.11/13.36.48.453813.log\n",
            " create mode 100644 .config/logs/2025.06.11/13.37.08.919149.log\n",
            " create mode 100644 .config/logs/2025.06.11/13.37.17.609931.log\n",
            " create mode 100644 .config/logs/2025.06.11/13.37.18.763091.log\n",
            " create mode 100644 .config/logs/2025.06.11/13.37.27.125319.log\n",
            " create mode 100644 .config/logs/2025.06.11/13.37.27.755669.log\n",
            " create mode 100755 sample_data/README.md\n",
            " create mode 100755 sample_data/anscombe.json\n",
            " create mode 100644 sample_data/california_housing_test.csv\n",
            " create mode 100644 sample_data/california_housing_train.csv\n",
            " create mode 100644 sample_data/mnist_test.csv\n",
            " create mode 100644 sample_data/mnist_train_small.csv\n",
            "fatal: could not read Username for 'https://github.com': No such device or address\n"
          ]
        }
      ]
    }
  ]
}