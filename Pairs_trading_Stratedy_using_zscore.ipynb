{
  "nbformat": 4,
  "nbformat_minor": 0,
  "metadata": {
    "colab": {
      "provenance": [],
      "authorship_tag": "ABX9TyP8zSY8kTWX9gejhmg3pBMt",
      "include_colab_link": true
    },
    "kernelspec": {
      "name": "python3",
      "display_name": "Python 3"
    },
    "language_info": {
      "name": "python"
    }
  },
  "cells": [
    {
      "cell_type": "markdown",
      "metadata": {
        "id": "view-in-github",
        "colab_type": "text"
      },
      "source": [
        "<a href=\"https://colab.research.google.com/github/dgiri4132/pairs_trading_strategy-zscore/blob/main/Pairs_trading_Stratedy_using_zscore.ipynb\" target=\"_parent\"><img src=\"https://colab.research.google.com/assets/colab-badge.svg\" alt=\"Open In Colab\"/></a>"
      ]
    },
    {
      "cell_type": "code",
      "execution_count": null,
      "metadata": {
        "id": "2K8vMx8TnpyI"
      },
      "outputs": [],
      "source": [
        "import yfinance as yf\n",
        "import pandas as pd\n",
        "\n",
        "option_for_index={'S&P500':'^GSPC','NASDAQ-100':'^NDX','Dow Jones':'^DJI','FTSE 100':'FTSE','Nikkei 225':'^N225','DAX':'^GDAXI','CAC 40':'^FCHI'}\n",
        "chosen_index=input(f'Choose anyone of the index from indexes below:{option_for_index.keys()} ').strip()\n",
        "def index_tickers(chosen_index):\n",
        "  try:\n",
        "    if chosen_index==\"S&P500\":\n",
        "      df = pd.read_html('https://en.wikipedia.org/wiki/List_of_S%26P_500_companies')[0]\n",
        "      return df['Symbol'].tolist()\n",
        "    elif chosen_index=='NASDAQ-100':\n",
        "      df=pd.read_html('https://en.wikipedia.org/wiki/NASDAQ-100')[3]\n",
        "      return df['Symbol'].tolist()\n",
        "    elif chosen_index=='Dow Jones':\n",
        "      df=pd.read_html('https://en.wikipedia.org/wiki/Dow_Jones_Industrial_Average')[1]\n",
        "      return df['Symbol'].tolist()\n",
        "    elif chosen_index=='FTSE 100':\n",
        "      df=pd.read_html('https://en.wikipedia.org/wiki/FTSE_100_Index')[3]\n",
        "      return df['Symbol'].tolist()\n",
        "    elif chosen_index=='Nikkei 225':\n",
        "      df=pd.read_html('https://en.wikipedia.org/wiki/Nikkei_225')[1]\n",
        "      return df['Symbol'].tolist()\n",
        "    elif chosen_index=='DAX':\n",
        "      df=pd.read_html('https://en.wikipedia.org/wiki/DAX')[1]\n",
        "      return df['Symbol'].tolist()\n",
        "    elif chosen_index=='CAC 40':\n",
        "      df=pd.read_html('https://en.wikipedia.org/wiki/CAC_40')[0]\n",
        "      return df['Symbol'].tolist()\n",
        "    else:\n",
        "      print('Index not recognized or supported')\n",
        "      return None\n",
        "  except Exception as e:\n",
        "    print(f'Error loading tickers for {chosen_index}:{e}')\n",
        "    return None\n",
        "\n",
        "\n"
      ]
    },
    {
      "cell_type": "code",
      "source": [
        "!git init\n",
        "!git config --global user.email \"darshangiri785@gmail.com\"\n",
        "!git config --global user.name \"dgiri4132\"\n"
      ],
      "metadata": {
        "colab": {
          "base_uri": "https://localhost:8080/"
        },
        "id": "3I90GCuAB9LJ",
        "outputId": "97e90ab4-2994-43d8-c091-ab264048d832"
      },
      "execution_count": null,
      "outputs": [
        {
          "output_type": "stream",
          "name": "stdout",
          "text": [
            "Reinitialized existing Git repository in /content/.git/\n"
          ]
        }
      ]
    },
    {
      "cell_type": "code",
      "source": [
        "!git remote add origin https://github.com/dgiri4132/pairs_trading_strategy-zscore.git\n",
        "!git branch -M main\n",
        "!git add .\n",
        "!git commit -m \"Initial commit for pairs trading strategy using z-score\"\n",
        "!git push -u origin main\n"
      ],
      "metadata": {
        "id": "29BXkVZuE3H9",
        "outputId": "f7bd99e7-0703-4340-fc4a-684ee101873a",
        "colab": {
          "base_uri": "https://localhost:8080/"
        }
      },
      "execution_count": null,
      "outputs": [
        {
          "output_type": "stream",
          "name": "stdout",
          "text": [
            "[main (root-commit) 9aa3adc] Initial commit for pairs trading strategy using z-score\n",
            " 21 files changed, 51025 insertions(+)\n",
            " create mode 100644 .config/.last_opt_in_prompt.yaml\n",
            " create mode 100644 .config/.last_survey_prompt.yaml\n",
            " create mode 100644 .config/.last_update_check.json\n",
            " create mode 100644 .config/active_config\n",
            " create mode 100644 .config/config_sentinel\n",
            " create mode 100644 .config/configurations/config_default\n",
            " create mode 100644 .config/default_configs.db\n",
            " create mode 100644 .config/gce\n",
            " create mode 100644 .config/hidden_gcloud_config_universe_descriptor_data_cache_configs.db\n",
            " create mode 100644 .config/logs/2025.06.11/13.36.48.453813.log\n",
            " create mode 100644 .config/logs/2025.06.11/13.37.08.919149.log\n",
            " create mode 100644 .config/logs/2025.06.11/13.37.17.609931.log\n",
            " create mode 100644 .config/logs/2025.06.11/13.37.18.763091.log\n",
            " create mode 100644 .config/logs/2025.06.11/13.37.27.125319.log\n",
            " create mode 100644 .config/logs/2025.06.11/13.37.27.755669.log\n",
            " create mode 100755 sample_data/README.md\n",
            " create mode 100755 sample_data/anscombe.json\n",
            " create mode 100644 sample_data/california_housing_test.csv\n",
            " create mode 100644 sample_data/california_housing_train.csv\n",
            " create mode 100644 sample_data/mnist_test.csv\n",
            " create mode 100644 sample_data/mnist_train_small.csv\n",
            "fatal: could not read Username for 'https://github.com': No such device or address\n"
          ]
        }
      ]
    }
  ]
}